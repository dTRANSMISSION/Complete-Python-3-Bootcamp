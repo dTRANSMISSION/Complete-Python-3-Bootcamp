{
 "cells": [
  {
   "cell_type": "markdown",
   "metadata": {},
   "source": [
    "# Milestone Project 1: Walkthrough Steps Workbook\n",
    "\n",
    "Below is a set of steps for you to follow to try to create the Tic Tac Toe Milestone Project game!"
   ]
  },
  {
   "cell_type": "markdown",
   "metadata": {},
   "source": [
    "#### Some suggested tools before you get started:\n",
    "To take input from a user:\n",
    "\n",
    "    player1 = input(\"Please pick a marker 'X' or 'O'\")\n",
    "    \n",
    "Note that input() takes in a string. If you need an integer value, use\n",
    "\n",
    "    position = int(input('Please enter a number'))\n",
    "    \n",
    "<br>To clear the screen between moves:\n",
    "\n",
    "    from IPython.display import clear_output\n",
    "    clear_output()\n",
    "    \n",
    "Note that clear_output() will only work in jupyter. To clear the screen in other IDEs, consider:\n",
    "\n",
    "    print('\\n'*100)\n",
    "    \n",
    "This scrolls the previous board up out of view. Now on to the program!"
   ]
  },
  {
   "cell_type": "markdown",
   "metadata": {},
   "source": [
    "**Step 1: Write a function that can print out a board. Set up your board as a list, where each index 1-9 corresponds with a number on a number pad, so you get a 3 by 3 board representation.**"
   ]
  },
  {
   "cell_type": "code",
   "execution_count": 20,
   "metadata": {},
   "outputs": [],
   "source": [
    "from IPython.display import clear_output\n",
    "\n",
    "def display_board(board): \n",
    "    print('  {}  |  {}  |  {}'.format(board[1], \n",
    "                                  board[2], \n",
    "                                  board[3]))\n",
    "    print('-----------------')\n",
    "    print('  {}  |  {}  |  {}'.format(board[4], \n",
    "                                  board[5], \n",
    "                                  board[6]))   \n",
    "    print('-----------------')\n",
    "    print('  {}  |  {}  |  {}'.format(board[7], \n",
    "                                  board[8], \n",
    "                                  board[9]))    "
   ]
  },
  {
   "cell_type": "markdown",
   "metadata": {},
   "source": [
    "**TEST Step 1:** run your function on a test version of the board list, and make adjustments as necessary"
   ]
  },
  {
   "cell_type": "code",
   "execution_count": 4,
   "metadata": {},
   "outputs": [
    {
     "name": "stdout",
     "output_type": "stream",
     "text": [
      "  X  |  O  |  X\n",
      "-----------------\n",
      "  O  |  X  |  O\n",
      "-----------------\n",
      "  X  |  O  |  X\n"
     ]
    }
   ],
   "source": [
    "test_board = ['#','X','O','X','O','X','O','X','O','X']\n",
    "display_board(test_board)"
   ]
  },
  {
   "cell_type": "markdown",
   "metadata": {},
   "source": [
    "**Step 2: Write a function that can take in a player input and assign their marker as 'X' or 'O'. Think about using *while* loops to continually ask until you get a correct answer.**"
   ]
  },
  {
   "cell_type": "code",
   "execution_count": 5,
   "metadata": {},
   "outputs": [],
   "source": [
    "def player_input():\n",
    "    marker = ''\n",
    "    \n",
    "    while marker != 'X' and marker != 'O':\n",
    "        marker = input('Player 1, choose X or O: ').upper()\n",
    "        \n",
    "    player1 = marker\n",
    "    \n",
    "    if player1 == 'X':\n",
    "        player2 = 'O'\n",
    "    else:\n",
    "        player2 = 'X'\n",
    "    \n",
    "    return(player1, player2)"
   ]
  },
  {
   "cell_type": "markdown",
   "metadata": {},
   "source": [
    "**TEST Step 2:** run the function to make sure it returns the desired output"
   ]
  },
  {
   "cell_type": "code",
   "execution_count": 6,
   "metadata": {},
   "outputs": [
    {
     "name": "stdout",
     "output_type": "stream",
     "text": [
      "Player 1, choose X or O: x\n"
     ]
    },
    {
     "data": {
      "text/plain": [
       "('X', 'O')"
      ]
     },
     "execution_count": 6,
     "metadata": {},
     "output_type": "execute_result"
    }
   ],
   "source": [
    "player_input()"
   ]
  },
  {
   "cell_type": "markdown",
   "metadata": {},
   "source": [
    "**Step 3: Write a function that takes in the board list object, a marker ('X' or 'O'), and a desired position (number 1-9) and assigns it to the board.**"
   ]
  },
  {
   "cell_type": "code",
   "execution_count": 7,
   "metadata": {},
   "outputs": [],
   "source": [
    "def place_marker(board, marker, position):\n",
    "        board[position] = marker"
   ]
  },
  {
   "cell_type": "markdown",
   "metadata": {},
   "source": [
    "**TEST Step 3:** run the place marker function using test parameters and display the modified board"
   ]
  },
  {
   "cell_type": "code",
   "execution_count": 8,
   "metadata": {},
   "outputs": [
    {
     "name": "stdout",
     "output_type": "stream",
     "text": [
      "  X  |  O  |  X\n",
      "-----------------\n",
      "  O  |  X  |  O\n",
      "-----------------\n",
      "  X  |  $  |  X\n"
     ]
    }
   ],
   "source": [
    "place_marker(test_board,'$',8)\n",
    "display_board(test_board)"
   ]
  },
  {
   "cell_type": "markdown",
   "metadata": {},
   "source": [
    "**Step 4: Write a function that takes in a board and a mark (X or O) and then checks to see if that mark has won. **"
   ]
  },
  {
   "cell_type": "code",
   "execution_count": 9,
   "metadata": {},
   "outputs": [],
   "source": [
    "def win_check(board, mark):\n",
    "    mark = mark.upper()\n",
    "    return (\n",
    "        (board[1] == mark and board[2] == mark and board[3] == mark) or\n",
    "        (board[4] == mark and board[5] == mark and board[6] == mark) or\n",
    "        (board[7] == mark and board[8] == mark and board[9] == mark) or\n",
    "        (board[1] == mark and board[4] == mark and board[7] == mark) or\n",
    "        (board[2] == mark and board[5] == mark and board[8] == mark) or\n",
    "        (board[3] == mark and board[6] == mark and board[9] == mark) or\n",
    "        (board[1] == mark and board[5] == mark and board[9] == mark) or\n",
    "        (board[3] == mark and board[5] == mark and board[7] == mark)\n",
    "    )"
   ]
  },
  {
   "cell_type": "markdown",
   "metadata": {},
   "source": [
    "**TEST Step 4:** run the win_check function against our test_board - it should return True"
   ]
  },
  {
   "cell_type": "code",
   "execution_count": 11,
   "metadata": {},
   "outputs": [
    {
     "data": {
      "text/plain": [
       "True"
      ]
     },
     "execution_count": 11,
     "metadata": {},
     "output_type": "execute_result"
    }
   ],
   "source": [
    "win_check(test_board,'x')"
   ]
  },
  {
   "cell_type": "raw",
   "metadata": {},
   "source": [
    "**Step 5: Write a function that uses the random module to randomly decide which player goes first. You may want to lookup random.randint() Return a string of which player went first.**"
   ]
  },
  {
   "cell_type": "code",
   "execution_count": 12,
   "metadata": {},
   "outputs": [],
   "source": [
    "import random\n",
    "\n",
    "def choose_first():\n",
    "    if random.randint(1,2) == 1:\n",
    "        return \"player1\"\n",
    "    else:\n",
    "        return \"player2\""
   ]
  },
  {
   "cell_type": "markdown",
   "metadata": {},
   "source": [
    "**Step 6: Write a function that returns a boolean indicating whether a space on the board is freely available.**"
   ]
  },
  {
   "cell_type": "code",
   "execution_count": 13,
   "metadata": {},
   "outputs": [],
   "source": [
    "def space_check(board, position):\n",
    "    return board[position].isalpha()"
   ]
  },
  {
   "cell_type": "markdown",
   "metadata": {},
   "source": [
    "**Step 7: Write a function that checks if the board is full and returns a boolean value. True if full, False otherwise.**"
   ]
  },
  {
   "cell_type": "code",
   "execution_count": 14,
   "metadata": {},
   "outputs": [],
   "source": [
    "def full_board_check(board):\n",
    "    return all(item.isalpha() or item == '#' for item in set(board))"
   ]
  },
  {
   "cell_type": "markdown",
   "metadata": {},
   "source": [
    "**Step 8: Write a function that asks for a player's next position (as a number 1-9) and then uses the function from step 6 to check if it's a free position. If it is, then return the position for later use.**"
   ]
  },
  {
   "cell_type": "code",
   "execution_count": 113,
   "metadata": {},
   "outputs": [],
   "source": [
    "def player_choice(board):\n",
    "    position = ''\n",
    "    while position == '':\n",
    "        try:\n",
    "            choice = int(input('Enter a number from 1 to 9: '))\n",
    "            if choice not in range(1, 10):\n",
    "                raise ValueError\n",
    "            elif space_check(board, choice):\n",
    "                raise AssertionError\n",
    "            else:\n",
    "                position = choice\n",
    "        except ValueError:\n",
    "            print('Invalid integer. The number must be in the range of 1-9.')\n",
    "            continue\n",
    "        except AssertionError:\n",
    "            print('Seats taken. Choose another spot.')\n",
    "            continue\n",
    "    return position"
   ]
  },
  {
   "cell_type": "markdown",
   "metadata": {},
   "source": [
    "**Step 9: Write a function that asks the player if they want to play again and returns a boolean True if they do want to play again.**"
   ]
  },
  {
   "cell_type": "code",
   "execution_count": 100,
   "metadata": {},
   "outputs": [],
   "source": [
    "def replay():\n",
    "    play_again = ' '\n",
    "    answers = [ 'YES', 'Y', 'NO', 'N']\n",
    "    while play_again == ' ':\n",
    "        try:\n",
    "            choice = str(input('Play Again? Enter {}: '.format(answers))).upper()\n",
    "            if choice not in answers:\n",
    "                raise ValueError\n",
    "            elif choice in answers[:2]:\n",
    "                return True\n",
    "            elif choice in answers[2:]:\n",
    "                return False\n",
    "        except ValueError:\n",
    "            print('Please enter \"YES\"/\"Y\" or \"NO\"/\"N\"\\n')\n",
    "            continue"
   ]
  },
  {
   "cell_type": "markdown",
   "metadata": {
    "collapsed": true
   },
   "source": [
    "**Step 10: Here comes the hard part! Use while loops and the functions you've made to run the game!**"
   ]
  },
  {
   "cell_type": "code",
   "execution_count": null,
   "metadata": {},
   "outputs": [
    {
     "name": "stdout",
     "output_type": "stream",
     "text": [
      "Welcome to Tic Tac Toe!\n",
      "\n",
      "Are you ready to start? Yes or No: \n",
      "y\n",
      "Player 1, choose X or O: x\n",
      "     |     |   \n",
      "-----------------\n",
      "     |     |   \n",
      "-----------------\n",
      "     |     |   \n",
      "\n",
      "Player 2 ...\n"
     ]
    }
   ],
   "source": [
    "while True:\n",
    "    the_board =  ['#'] + [' '] * 9\n",
    "    turn_owner = choose_first()\n",
    "    \n",
    "    print('Welcome to Tic Tac Toe!\\n')\n",
    "    play_game = str(input('Are you ready to start? Yes or No: '))[0].upper()\n",
    "    \n",
    "    print('\\n')\n",
    "    if play_game == 'Y':\n",
    "        p1_marker, p2_marker = player_input()\n",
    "        game_on = True\n",
    "    else:\n",
    "        game_on = False\n",
    "    \n",
    "    # Add post game output of win count.\n",
    "    p1_win_count = 0\n",
    "    p2_win_count = 0\n",
    "\n",
    "    while game_on:\n",
    "        if turn_owner == 'player1':\n",
    "            display_board(the_board)  \n",
    "            print('\\nPlayer 1 ...')\n",
    "            position = player_choice(the_board)\n",
    "            place_marker(the_board, p1_marker, position)\n",
    "            print('<<<<<<< - >>>>>>>\\n')\n",
    "            \n",
    "            if win_check(the_board, p1_marker):\n",
    "                display_board(the_board)\n",
    "                print('Congrats Player 1, You Won.')\n",
    "                p1_win_count += 1\n",
    "                game_on = False\n",
    "            else:\n",
    "                if full_board_check(the_board):\n",
    "                    display_board(the_board)\n",
    "                    print('Its a cat\\'s game! (tie)')\n",
    "                    break\n",
    "                else:\n",
    "                    turn_owner = 'player2'\n",
    "        else:\n",
    "            display_board(the_board)  \n",
    "            print('\\nPlayer 2 ...')\n",
    "            position = player_choice(the_board)\n",
    "            place_marker(the_board, p2_marker, position)\n",
    "            print('<<<<<<< - >>>>>>>\\n')\n",
    "            \n",
    "            if win_check(the_board, p2_marker):\n",
    "                display_board(the_board)\n",
    "                print('Congrats Player 2, You Won.')\n",
    "                game_on = False\n",
    "            else:\n",
    "                if full_board_check(the_board):\n",
    "                    display_board(the_board)\n",
    "                    print('Its a cat\\'s game! (tie)')\n",
    "                    break\n",
    "                else:\n",
    "                    turn_owner = 'player1'\n",
    "            \n",
    "    if not replay():\n",
    "        break"
   ]
  },
  {
   "cell_type": "markdown",
   "metadata": {
    "collapsed": true
   },
   "source": [
    "## Good Job!"
   ]
  },
  {
   "cell_type": "code",
   "execution_count": null,
   "metadata": {},
   "outputs": [],
   "source": []
  }
 ],
 "metadata": {
  "kernelspec": {
   "display_name": "Python 3",
   "language": "python",
   "name": "python3"
  },
  "language_info": {
   "codemirror_mode": {
    "name": "ipython",
    "version": 3
   },
   "file_extension": ".py",
   "mimetype": "text/x-python",
   "name": "python",
   "nbconvert_exporter": "python",
   "pygments_lexer": "ipython3",
   "version": "3.7.3"
  }
 },
 "nbformat": 4,
 "nbformat_minor": 1
}
